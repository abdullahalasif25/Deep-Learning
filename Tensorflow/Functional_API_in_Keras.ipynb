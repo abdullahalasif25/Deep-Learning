{
  "nbformat": 4,
  "nbformat_minor": 0,
  "metadata": {
    "colab": {
      "provenance": [],
      "authorship_tag": "ABX9TyP7w4xAcU0a/xlcxARRFiTU",
      "include_colab_link": true
    },
    "kernelspec": {
      "name": "python3",
      "display_name": "Python 3"
    },
    "language_info": {
      "name": "python"
    }
  },
  "cells": [
    {
      "cell_type": "markdown",
      "metadata": {
        "id": "view-in-github",
        "colab_type": "text"
      },
      "source": [
        "<a href=\"https://colab.research.google.com/github/abdullahalasif25/Deep-Learning/blob/main/Tensorflow/Functional_API_in_Keras.ipynb\" target=\"_parent\"><img src=\"https://colab.research.google.com/assets/colab-badge.svg\" alt=\"Open In Colab\"/></a>"
      ]
    },
    {
      "cell_type": "markdown",
      "source": [
        "#Importing the required libraries"
      ],
      "metadata": {
        "id": "8m-1JJaTfsKf"
      }
    },
    {
      "cell_type": "code",
      "execution_count": 1,
      "metadata": {
        "id": "dASGMGtzfqGq"
      },
      "outputs": [],
      "source": [
        "import tensorflow as tf\n",
        "from tensorflow.keras.models import Model\n",
        "from tensorflow.keras.layers import Input, Dense"
      ]
    },
    {
      "cell_type": "markdown",
      "source": [
        "#Dataset\n",
        "using random data for exercise"
      ],
      "metadata": {
        "id": "hW7VvibNkXmC"
      }
    },
    {
      "cell_type": "code",
      "source": [
        "import numpy as np\n",
        "\n",
        "#using random data for practice\n",
        "x_train=np.random.rand(1000,20)\n",
        "y_train=np.random.randint(2, size=(1000,1))\n",
        "\n",
        "x_test=np.random.rand(200,20)\n",
        "y_test=np.random.randint(2,size=(200,1))"
      ],
      "metadata": {
        "id": "auW9bxNXkaW6"
      },
      "execution_count": 15,
      "outputs": []
    },
    {
      "cell_type": "markdown",
      "source": [
        "#Build a neural network"
      ],
      "metadata": {
        "id": "np_HgMtygXRJ"
      }
    },
    {
      "cell_type": "code",
      "source": [
        "def functional_api_model():\n",
        "  input_layer=Input(shape=(20,))\n",
        "  hidden_layer1=Dense(64, activation='relu')(input_layer)\n",
        "  hidden_layer2=Dense(64,activation='relu')(hidden_layer1)\n",
        "  output_layer=Dense(1,activation='sigmoid')(hidden_layer2)\n",
        "  model=Model(inputs=input_layer, outputs=output_layer)\n",
        "  model.compile(optimizer='adam', loss='binary_crossentropy',metrics=['accuracy'])\n",
        "  return model"
      ],
      "metadata": {
        "id": "YA4DfScEggUb"
      },
      "execution_count": 11,
      "outputs": []
    },
    {
      "cell_type": "markdown",
      "source": [
        "#Build the model\n"
      ],
      "metadata": {
        "id": "2KXchoNTfrMv"
      }
    },
    {
      "cell_type": "code",
      "source": [
        "model=functional_api_model()\n",
        "model.fit(x_train,y_train,epochs=10, batch_size=32)"
      ],
      "metadata": {
        "colab": {
          "base_uri": "https://localhost:8080/"
        },
        "id": "OX9s68Crh7-W",
        "outputId": "9f327667-c3fe-4d93-ae8d-f130ad2bc68c"
      },
      "execution_count": 16,
      "outputs": [
        {
          "output_type": "stream",
          "name": "stdout",
          "text": [
            "Epoch 1/10\n",
            "\u001b[1m32/32\u001b[0m \u001b[32m━━━━━━━━━━━━━━━━━━━━\u001b[0m\u001b[37m\u001b[0m \u001b[1m1s\u001b[0m 2ms/step - accuracy: 0.5192 - loss: 0.6901\n",
            "Epoch 2/10\n",
            "\u001b[1m32/32\u001b[0m \u001b[32m━━━━━━━━━━━━━━━━━━━━\u001b[0m\u001b[37m\u001b[0m \u001b[1m0s\u001b[0m 2ms/step - accuracy: 0.5343 - loss: 0.6904\n",
            "Epoch 3/10\n",
            "\u001b[1m32/32\u001b[0m \u001b[32m━━━━━━━━━━━━━━━━━━━━\u001b[0m\u001b[37m\u001b[0m \u001b[1m0s\u001b[0m 3ms/step - accuracy: 0.5553 - loss: 0.6859\n",
            "Epoch 4/10\n",
            "\u001b[1m32/32\u001b[0m \u001b[32m━━━━━━━━━━━━━━━━━━━━\u001b[0m\u001b[37m\u001b[0m \u001b[1m0s\u001b[0m 3ms/step - accuracy: 0.5549 - loss: 0.6823\n",
            "Epoch 5/10\n",
            "\u001b[1m32/32\u001b[0m \u001b[32m━━━━━━━━━━━━━━━━━━━━\u001b[0m\u001b[37m\u001b[0m \u001b[1m0s\u001b[0m 2ms/step - accuracy: 0.5496 - loss: 0.6810\n",
            "Epoch 6/10\n",
            "\u001b[1m32/32\u001b[0m \u001b[32m━━━━━━━━━━━━━━━━━━━━\u001b[0m\u001b[37m\u001b[0m \u001b[1m0s\u001b[0m 2ms/step - accuracy: 0.5713 - loss: 0.6784\n",
            "Epoch 7/10\n",
            "\u001b[1m32/32\u001b[0m \u001b[32m━━━━━━━━━━━━━━━━━━━━\u001b[0m\u001b[37m\u001b[0m \u001b[1m0s\u001b[0m 2ms/step - accuracy: 0.6073 - loss: 0.6704\n",
            "Epoch 8/10\n",
            "\u001b[1m32/32\u001b[0m \u001b[32m━━━━━━━━━━━━━━━━━━━━\u001b[0m\u001b[37m\u001b[0m \u001b[1m0s\u001b[0m 3ms/step - accuracy: 0.5823 - loss: 0.6718\n",
            "Epoch 9/10\n",
            "\u001b[1m32/32\u001b[0m \u001b[32m━━━━━━━━━━━━━━━━━━━━\u001b[0m\u001b[37m\u001b[0m \u001b[1m0s\u001b[0m 2ms/step - accuracy: 0.6096 - loss: 0.6696\n",
            "Epoch 10/10\n",
            "\u001b[1m32/32\u001b[0m \u001b[32m━━━━━━━━━━━━━━━━━━━━\u001b[0m\u001b[37m\u001b[0m \u001b[1m0s\u001b[0m 2ms/step - accuracy: 0.6145 - loss: 0.6633\n"
          ]
        },
        {
          "output_type": "execute_result",
          "data": {
            "text/plain": [
              "<keras.src.callbacks.history.History at 0x7bf0f8433b10>"
            ]
          },
          "metadata": {},
          "execution_count": 16
        }
      ]
    },
    {
      "cell_type": "markdown",
      "source": [
        "#Evaluating the model"
      ],
      "metadata": {
        "id": "WVOSgnO8k4de"
      }
    },
    {
      "cell_type": "code",
      "source": [
        "scores=model.evaluate(x_test,y_test, verbose=0)\n",
        "print(f'Loss: {scores[0]}, Accuracy: {(scores[1])*100} %')"
      ],
      "metadata": {
        "colab": {
          "base_uri": "https://localhost:8080/"
        },
        "id": "fGvR6qw4i4q-",
        "outputId": "bdeaa709-6701-4330-be7d-4526b941561a"
      },
      "execution_count": 19,
      "outputs": [
        {
          "output_type": "stream",
          "name": "stdout",
          "text": [
            "Loss: 0.7064468264579773, Accuracy: 50.49999952316284 %\n"
          ]
        }
      ]
    },
    {
      "cell_type": "markdown",
      "source": [
        "#Adding a dropout layer in keras"
      ],
      "metadata": {
        "id": "dbSCsIWPmMNQ"
      }
    },
    {
      "cell_type": "code",
      "source": [
        "from tensorflow.keras.layers import Dropout\n",
        "\n",
        "def functional_api_model():\n",
        "  input_layer=Input(shape=(20,))\n",
        "\n",
        "  hidden_layer1=Dense(64, activation='relu')(input_layer)\n",
        "\n",
        "  #Adding a dropout layer in between two hidden layers\n",
        "  dropout_layer=Dropout(rate=0.5)(hidden_layer1)\n",
        "\n",
        "  hidden_layer2=Dense(64,activation='relu')(dropout_layer)\n",
        "\n",
        "  output_layer=Dense(1,activation='sigmoid')(hidden_layer2)\n",
        "  model=Model(inputs=input_layer, outputs=output_layer)\n",
        "  model.compile(optimizer='adam', loss='binary_crossentropy',metrics=['accuracy'])\n",
        "  return model"
      ],
      "metadata": {
        "id": "1vxiGmpvltCK"
      },
      "execution_count": 24,
      "outputs": []
    },
    {
      "cell_type": "markdown",
      "source": [
        "#Adding two dropout layers in keras"
      ],
      "metadata": {
        "id": "aXG2FCKVnHTe"
      }
    },
    {
      "cell_type": "code",
      "source": [
        "from tensorflow.keras.layers import Dropout\n",
        "\n",
        "def functional_api_model():\n",
        "  input_layer=Input(shape=(20,))\n",
        "\n",
        "  # hidden_layer 1\n",
        "  hidden_layer1=Dense(64, activation='relu')(input_layer)\n",
        "\n",
        "  # dropout_layer 1\n",
        "  dropout_layer1=Dropout(rate=0.5)(hidden_layer1)\n",
        "\n",
        "  # hidden_layer 2\n",
        "  hidden_layer2=Dense(64,activation='relu')(dropout_layer1)\n",
        "\n",
        "  # droput_layer 2\n",
        "  dropout_layer2=Dropout(rate=0.5)(hidden_layer2)\n",
        "\n",
        "  output_layer=Dense(1,activation='sigmoid')(dropout_layer2)\n",
        "  model=Model(inputs=input_layer, outputs=output_layer)\n",
        "  model.compile(optimizer='adam', loss='binary_crossentropy',metrics=['accuracy'])\n",
        "  return model"
      ],
      "metadata": {
        "id": "E5KrMFC3m1ue"
      },
      "execution_count": 25,
      "outputs": []
    },
    {
      "cell_type": "markdown",
      "source": [
        "#Adding Batch Normalization in Keras"
      ],
      "metadata": {
        "id": "1o3U901Jobid"
      }
    },
    {
      "cell_type": "code",
      "source": [
        "from tensorflow.keras.layers import BatchNormalization\n",
        "\n",
        "def functional_api_model():\n",
        "  input_layer=Input(shape=(20,))\n",
        "\n",
        "  hidden_layer1=Dense(64, activation='relu')(input_layer)\n",
        "\n",
        "  #Adding a batch normalization layer in between two hidden layers\n",
        "  batch_norm_layers=BatchNormalization()(hidden_layer1)\n",
        "\n",
        "  hidden_layer2=Dense(64,activation='relu')(batch_norm_layers)\n",
        "\n",
        "  output_layer=Dense(1,activation='sigmoid')(hidden_layer2)\n",
        "  model=Model(inputs=input_layer, outputs=output_layer)\n",
        "  model.compile(optimizer='adam', loss='binary_crossentropy',metrics=['accuracy'])\n",
        "  return model"
      ],
      "metadata": {
        "id": "Ku1DoVzroIKu"
      },
      "execution_count": 26,
      "outputs": []
    },
    {
      "cell_type": "markdown",
      "source": [
        "# Add Batch Normalization layers after each hidden layer."
      ],
      "metadata": {
        "id": "EEHyjZVepx0m"
      }
    },
    {
      "cell_type": "code",
      "source": [
        "from tensorflow.keras.layers import BatchNormalization\n",
        "\n",
        "def functional_api_model():\n",
        "  input_layer=Input(shape=(20,))\n",
        "\n",
        "  # hidden_layer 1\n",
        "  hidden_layer1=Dense(64, activation='relu')(input_layer)\n",
        "\n",
        "  # batch_norm_layers 1\n",
        "  batch_norm_layers_1=Dropout(rate=0.5)(hidden_layer1)\n",
        "\n",
        "  # hidden_layer 2\n",
        "  hidden_layer2=Dense(64,activation='relu')(batch_norm_layers_1)\n",
        "\n",
        "  # batch_norm_layers 2\n",
        "  batch_norm_layers_2=Dropout(rate=0.5)(hidden_layer2)\n",
        "\n",
        "  output_layer=Dense(1,activation='sigmoid')(batch_norm_layers_2)\n",
        "  model=Model(inputs=input_layer, outputs=output_layer)\n",
        "  model.compile(optimizer='adam', loss='binary_crossentropy',metrics=['accuracy'])\n",
        "  return model"
      ],
      "metadata": {
        "id": "O7dgnqPbpsyV"
      },
      "execution_count": 27,
      "outputs": []
    }
  ]
}