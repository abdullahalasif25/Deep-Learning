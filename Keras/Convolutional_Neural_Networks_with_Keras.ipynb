{
  "nbformat": 4,
  "nbformat_minor": 0,
  "metadata": {
    "colab": {
      "provenance": [],
      "authorship_tag": "ABX9TyO7evwySAvRjn/qrtHj4MZT",
      "include_colab_link": true
    },
    "kernelspec": {
      "name": "python3",
      "display_name": "Python 3"
    },
    "language_info": {
      "name": "python"
    }
  },
  "cells": [
    {
      "cell_type": "markdown",
      "metadata": {
        "id": "view-in-github",
        "colab_type": "text"
      },
      "source": [
        "<a href=\"https://colab.research.google.com/github/abdullahalasif25/Deep-Learning/blob/main/Keras/Convolutional_Neural_Networks_with_Keras.ipynb\" target=\"_parent\"><img src=\"https://colab.research.google.com/assets/colab-badge.svg\" alt=\"Open In Colab\"/></a>"
      ]
    },
    {
      "cell_type": "markdown",
      "source": [
        "#importing required libraries\n"
      ],
      "metadata": {
        "id": "dhVkP1L_xHtW"
      }
    },
    {
      "cell_type": "code",
      "source": [
        "import keras\n",
        "from keras.models import Sequential\n",
        "from keras.layers import Input, Dense, Flatten, Conv2D, MaxPooling2D\n",
        "from keras.utils import to_categorical"
      ],
      "metadata": {
        "id": "mFbqWrxMxWeU"
      },
      "execution_count": 4,
      "outputs": []
    },
    {
      "cell_type": "markdown",
      "source": [
        "#Load the data"
      ],
      "metadata": {
        "id": "lxkq8FY8w-gj"
      }
    },
    {
      "cell_type": "code",
      "execution_count": 5,
      "metadata": {
        "colab": {
          "base_uri": "https://localhost:8080/"
        },
        "id": "YEG88ymkQURO",
        "outputId": "097989d7-c44e-46c1-8c52-a93d786e51d8"
      },
      "outputs": [
        {
          "output_type": "stream",
          "name": "stdout",
          "text": [
            "Downloading data from https://storage.googleapis.com/tensorflow/tf-keras-datasets/mnist.npz\n",
            "\u001b[1m11490434/11490434\u001b[0m \u001b[32m━━━━━━━━━━━━━━━━━━━━\u001b[0m\u001b[37m\u001b[0m \u001b[1m0s\u001b[0m 0us/step\n"
          ]
        }
      ],
      "source": [
        "from keras.datasets import mnist\n",
        "(x_train,y_train),(x_test, y_test)=mnist.load_data()"
      ]
    },
    {
      "cell_type": "markdown",
      "source": [
        "# Reshape to be [samples][pixels][width][height]"
      ],
      "metadata": {
        "id": "JzN9RAUAw9jr"
      }
    },
    {
      "cell_type": "code",
      "source": [
        "x_train.shape"
      ],
      "metadata": {
        "colab": {
          "base_uri": "https://localhost:8080/"
        },
        "id": "RvSg9jpd4B7P",
        "outputId": "7b6c142e-88a9-4ebb-f823-7352493c266e"
      },
      "execution_count": 6,
      "outputs": [
        {
          "output_type": "execute_result",
          "data": {
            "text/plain": [
              "(60000, 28, 28)"
            ]
          },
          "metadata": {},
          "execution_count": 6
        }
      ]
    },
    {
      "cell_type": "code",
      "source": [
        "x_train=x_train.reshape(x_train.shape[0],28,28,1).astype('float32')\n",
        "x_test=x_test.reshape(x_test.shape[0],28,28,1).astype('float32')"
      ],
      "metadata": {
        "id": "hsOZQQ4byy5e"
      },
      "execution_count": 7,
      "outputs": []
    },
    {
      "cell_type": "markdown",
      "source": [
        "#Normalize the input"
      ],
      "metadata": {
        "id": "wFRNKjYc4_9W"
      }
    },
    {
      "cell_type": "code",
      "source": [
        "x_train=x_train/255\n",
        "x_test=x_test/255"
      ],
      "metadata": {
        "id": "qKg34FmX46c1"
      },
      "execution_count": 9,
      "outputs": []
    },
    {
      "cell_type": "markdown",
      "source": [
        "#Convert target vaiables into binary category"
      ],
      "metadata": {
        "id": "nGYqaMox5IZ5"
      }
    },
    {
      "cell_type": "code",
      "source": [
        "y_train=to_categorical(y_train)\n",
        "y_test=to_categorical(y_test)"
      ],
      "metadata": {
        "id": "F6z-5ugU5GNR"
      },
      "execution_count": 10,
      "outputs": []
    },
    {
      "cell_type": "code",
      "source": [
        "y_train.shape"
      ],
      "metadata": {
        "colab": {
          "base_uri": "https://localhost:8080/"
        },
        "id": "pQdLahGs5dAr",
        "outputId": "0253801d-b8bf-4542-b4bb-6c2526b95b5c"
      },
      "execution_count": 11,
      "outputs": [
        {
          "output_type": "execute_result",
          "data": {
            "text/plain": [
              "(60000, 10)"
            ]
          },
          "metadata": {},
          "execution_count": 11
        }
      ]
    },
    {
      "cell_type": "code",
      "source": [
        "num_classes=y_train.shape[1]"
      ],
      "metadata": {
        "id": "O7XTBmDy5mc_"
      },
      "execution_count": 12,
      "outputs": []
    },
    {
      "cell_type": "markdown",
      "source": [
        "#Building a convolutional nerual network with one set of convolutional and Pooling layer"
      ],
      "metadata": {
        "id": "0x6AboKY5Yan"
      }
    },
    {
      "cell_type": "code",
      "source": [
        "def convolutional_model():\n",
        "  model=Sequential()\n",
        "  model.add(Input(shape=(28,28,1)))\n",
        "  model.add(Conv2D(16,(5,5),strides=(1,1),activation='relu'))\n",
        "  model.add(MaxPooling2D(pool_size=(2,2),strides=(2,2)))\n",
        "\n",
        "  model.add(Flatten())\n",
        "  model.add(Dense(100,activation='relu'))\n",
        "  model.add(Dense(num_classes,activation='softmax'))\n",
        "\n",
        "  model.compile(optimizer='adam',loss='categorical_crossentropy',metrics=['accuracy'])\n",
        "  return model\n"
      ],
      "metadata": {
        "id": "mI0kc8zS489t"
      },
      "execution_count": 16,
      "outputs": []
    },
    {
      "cell_type": "markdown",
      "source": [
        "#Build and fit the model"
      ],
      "metadata": {
        "id": "56tdbET5FN0K"
      }
    },
    {
      "cell_type": "code",
      "source": [
        "model=convolutional_model()\n",
        "model.fit(x_train,y_train, validation_data=(x_test,y_test), epochs=10, batch_size=200, verbose=2)"
      ],
      "metadata": {
        "colab": {
          "base_uri": "https://localhost:8080/"
        },
        "id": "gf0Ck66lFIwg",
        "outputId": "000206ec-8468-48dc-f79e-fedd677f7481"
      },
      "execution_count": 17,
      "outputs": [
        {
          "output_type": "stream",
          "name": "stdout",
          "text": [
            "Epoch 1/10\n",
            "300/300 - 21s - 72ms/step - accuracy: 0.9141 - loss: 0.3033 - val_accuracy: 0.9695 - val_loss: 0.1014\n",
            "Epoch 2/10\n",
            "300/300 - 21s - 71ms/step - accuracy: 0.9755 - loss: 0.0848 - val_accuracy: 0.9831 - val_loss: 0.0565\n",
            "Epoch 3/10\n",
            "300/300 - 18s - 61ms/step - accuracy: 0.9832 - loss: 0.0570 - val_accuracy: 0.9849 - val_loss: 0.0490\n",
            "Epoch 4/10\n",
            "300/300 - 22s - 73ms/step - accuracy: 0.9865 - loss: 0.0445 - val_accuracy: 0.9841 - val_loss: 0.0491\n",
            "Epoch 5/10\n",
            "300/300 - 21s - 71ms/step - accuracy: 0.9897 - loss: 0.0336 - val_accuracy: 0.9863 - val_loss: 0.0417\n",
            "Epoch 6/10\n",
            "300/300 - 41s - 136ms/step - accuracy: 0.9905 - loss: 0.0297 - val_accuracy: 0.9875 - val_loss: 0.0369\n",
            "Epoch 7/10\n",
            "300/300 - 43s - 142ms/step - accuracy: 0.9923 - loss: 0.0248 - val_accuracy: 0.9880 - val_loss: 0.0377\n",
            "Epoch 8/10\n",
            "300/300 - 23s - 75ms/step - accuracy: 0.9942 - loss: 0.0192 - val_accuracy: 0.9877 - val_loss: 0.0396\n",
            "Epoch 9/10\n",
            "300/300 - 39s - 130ms/step - accuracy: 0.9952 - loss: 0.0164 - val_accuracy: 0.9879 - val_loss: 0.0376\n",
            "Epoch 10/10\n",
            "300/300 - 41s - 137ms/step - accuracy: 0.9958 - loss: 0.0135 - val_accuracy: 0.9889 - val_loss: 0.0370\n"
          ]
        },
        {
          "output_type": "execute_result",
          "data": {
            "text/plain": [
              "<keras.src.callbacks.history.History at 0x781f03ce3250>"
            ]
          },
          "metadata": {},
          "execution_count": 17
        }
      ]
    },
    {
      "cell_type": "markdown",
      "source": [
        "#Evaluating the model"
      ],
      "metadata": {
        "id": "aTtV0X1nG-wN"
      }
    },
    {
      "cell_type": "code",
      "source": [
        "scores=model.evaluate(x_test,y_test,verbose=0)\n",
        "print(scores)"
      ],
      "metadata": {
        "colab": {
          "base_uri": "https://localhost:8080/"
        },
        "id": "IQjzkRsPGasY",
        "outputId": "d575b65c-9810-4f5f-f5ef-423f6af05f5f"
      },
      "execution_count": 20,
      "outputs": [
        {
          "output_type": "stream",
          "name": "stdout",
          "text": [
            "[0.03698604926466942, 0.9889000058174133]\n"
          ]
        }
      ]
    },
    {
      "cell_type": "code",
      "source": [
        "print(f'Accuracy: {scores[1]*100}% \\nError: {(1-scores[1])*100}%')"
      ],
      "metadata": {
        "colab": {
          "base_uri": "https://localhost:8080/"
        },
        "id": "3b8f1aqVHZGn",
        "outputId": "6561cb3c-7533-4439-b846-eda6f84a6021"
      },
      "execution_count": 21,
      "outputs": [
        {
          "output_type": "stream",
          "name": "stdout",
          "text": [
            "Accuracy: 98.89000058174133% \n",
            "Error: 1.109999418258667%\n"
          ]
        }
      ]
    },
    {
      "cell_type": "markdown",
      "source": [
        "#Saving the model"
      ],
      "metadata": {
        "id": "ma65xyacHz_Z"
      }
    },
    {
      "cell_type": "code",
      "source": [
        "model.save('CNN_model.keras')"
      ],
      "metadata": {
        "id": "ceeN90AYHzNa"
      },
      "execution_count": 23,
      "outputs": []
    },
    {
      "cell_type": "markdown",
      "source": [
        "#Building a convolutional nerual network with two sets of convolutional and Pooling layers"
      ],
      "metadata": {
        "id": "dx8j9SJQJwa4"
      }
    },
    {
      "cell_type": "code",
      "source": [
        "def convolutional_model():\n",
        "  model=Sequential()\n",
        "  model.add(Input(shape=(28,28,1)))\n",
        "  model.add(Conv2D(16,(5,5),strides=(1,1),activation='relu'))\n",
        "  model.add(MaxPooling2D(pool_size=(2,2),strides=(2,2)))\n",
        "\n",
        "  model.add(Conv2D(8,(2,2),strides=(1,1),activation='relu'))\n",
        "  model.add(MaxPooling2D(pool_size=(2,2),strides=(2,2)))\n",
        "\n",
        "  model.add(Flatten())\n",
        "  model.add(Dense(100,activation='relu'))\n",
        "  model.add(Dense(num_classes,activation='softmax'))\n",
        "\n",
        "  model.compile(optimizer='adam',loss='categorical_crossentropy',metrics=['accuracy'])\n",
        "  return model"
      ],
      "metadata": {
        "id": "CM1bPB3OHv9X"
      },
      "execution_count": 24,
      "outputs": []
    },
    {
      "cell_type": "markdown",
      "source": [
        "#Build and fit the model"
      ],
      "metadata": {
        "id": "7MbpEuRVK1kU"
      }
    },
    {
      "cell_type": "code",
      "source": [
        "model=convolutional_model()\n",
        "model.fit(x_train,y_train, validation_data=(x_test,y_test), epochs=10, batch_size=200, verbose=2)"
      ],
      "metadata": {
        "colab": {
          "base_uri": "https://localhost:8080/"
        },
        "id": "XVsK3jQ7KsjX",
        "outputId": "1f7f50b6-3186-4649-92be-ea2cb1008495"
      },
      "execution_count": 25,
      "outputs": [
        {
          "output_type": "stream",
          "name": "stdout",
          "text": [
            "Epoch 1/10\n",
            "300/300 - 22s - 75ms/step - accuracy: 0.8633 - loss: 0.4778 - val_accuracy: 0.9611 - val_loss: 0.1300\n",
            "Epoch 2/10\n",
            "300/300 - 40s - 135ms/step - accuracy: 0.9657 - loss: 0.1137 - val_accuracy: 0.9739 - val_loss: 0.0816\n",
            "Epoch 3/10\n",
            "300/300 - 21s - 69ms/step - accuracy: 0.9756 - loss: 0.0808 - val_accuracy: 0.9776 - val_loss: 0.0725\n",
            "Epoch 4/10\n",
            "300/300 - 39s - 131ms/step - accuracy: 0.9807 - loss: 0.0649 - val_accuracy: 0.9782 - val_loss: 0.0685\n",
            "Epoch 5/10\n",
            "300/300 - 22s - 74ms/step - accuracy: 0.9836 - loss: 0.0554 - val_accuracy: 0.9842 - val_loss: 0.0472\n",
            "Epoch 6/10\n",
            "300/300 - 40s - 132ms/step - accuracy: 0.9843 - loss: 0.0513 - val_accuracy: 0.9845 - val_loss: 0.0458\n",
            "Epoch 7/10\n",
            "300/300 - 22s - 73ms/step - accuracy: 0.9870 - loss: 0.0435 - val_accuracy: 0.9843 - val_loss: 0.0478\n",
            "Epoch 8/10\n",
            "300/300 - 20s - 65ms/step - accuracy: 0.9881 - loss: 0.0392 - val_accuracy: 0.9849 - val_loss: 0.0445\n",
            "Epoch 9/10\n",
            "300/300 - 20s - 68ms/step - accuracy: 0.9896 - loss: 0.0349 - val_accuracy: 0.9855 - val_loss: 0.0456\n",
            "Epoch 10/10\n",
            "300/300 - 21s - 68ms/step - accuracy: 0.9898 - loss: 0.0334 - val_accuracy: 0.9869 - val_loss: 0.0402\n"
          ]
        },
        {
          "output_type": "execute_result",
          "data": {
            "text/plain": [
              "<keras.src.callbacks.history.History at 0x781efd3674d0>"
            ]
          },
          "metadata": {},
          "execution_count": 25
        }
      ]
    },
    {
      "cell_type": "markdown",
      "source": [
        "#Evaluating the model"
      ],
      "metadata": {
        "id": "FF0aE5DfK9DV"
      }
    },
    {
      "cell_type": "code",
      "source": [
        "scores=model.evaluate(x_test,y_test,verbose=0)\n",
        "print(scores)"
      ],
      "metadata": {
        "colab": {
          "base_uri": "https://localhost:8080/"
        },
        "id": "5T-viTpdK6m8",
        "outputId": "4700231a-d291-4882-b993-1f9bc6a0f290"
      },
      "execution_count": 26,
      "outputs": [
        {
          "output_type": "stream",
          "name": "stdout",
          "text": [
            "[0.0402279756963253, 0.9868999719619751]\n"
          ]
        }
      ]
    },
    {
      "cell_type": "code",
      "source": [
        "print(f'Accuracy: {scores[1]*100}% \\nError: {(1-scores[1])*100}%')"
      ],
      "metadata": {
        "colab": {
          "base_uri": "https://localhost:8080/"
        },
        "id": "9XBcCSXyLBg0",
        "outputId": "d0bbb31f-a8d3-4403-b089-8ed139fc49a5"
      },
      "execution_count": 27,
      "outputs": [
        {
          "output_type": "stream",
          "name": "stdout",
          "text": [
            "Accuracy: 98.68999719619751% \n",
            "Error: 1.3100028038024902%\n"
          ]
        }
      ]
    },
    {
      "cell_type": "markdown",
      "source": [
        "#Saving the model"
      ],
      "metadata": {
        "id": "dnERJq3nLGMB"
      }
    },
    {
      "cell_type": "code",
      "source": [
        "model.save('CNN_model_2.keras')"
      ],
      "metadata": {
        "id": "fJPyvJpELDxP"
      },
      "execution_count": 28,
      "outputs": []
    }
  ]
}