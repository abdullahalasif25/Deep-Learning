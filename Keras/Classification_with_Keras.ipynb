{
  "nbformat": 4,
  "nbformat_minor": 0,
  "metadata": {
    "colab": {
      "provenance": [],
      "authorship_tag": "ABX9TyN6PrLwTvDYYWu6fAOM9HT9",
      "include_colab_link": true
    },
    "kernelspec": {
      "name": "python3",
      "display_name": "Python 3"
    },
    "language_info": {
      "name": "python"
    }
  },
  "cells": [
    {
      "cell_type": "markdown",
      "metadata": {
        "id": "view-in-github",
        "colab_type": "text"
      },
      "source": [
        "<a href=\"https://colab.research.google.com/github/abdullahalasif25/Deep-Learning/blob/main/Keras/Classification_with_Keras.ipynb\" target=\"_parent\"><img src=\"https://colab.research.google.com/assets/colab-badge.svg\" alt=\"Open In Colab\"/></a>"
      ]
    },
    {
      "cell_type": "markdown",
      "source": [
        "#Importing required libraries"
      ],
      "metadata": {
        "id": "wx7SvNn40T-0"
      }
    },
    {
      "cell_type": "code",
      "execution_count": 3,
      "metadata": {
        "id": "ViX4pbKKssoR"
      },
      "outputs": [],
      "source": [
        "import keras\n",
        "from keras.datasets import mnist\n",
        "from keras.models import Sequential\n",
        "from keras.layers import Input, Dense\n",
        "from keras.utils import to_categorical"
      ]
    },
    {
      "cell_type": "markdown",
      "source": [
        "#Load the data"
      ],
      "metadata": {
        "id": "jkCpH9SJ0s59"
      }
    },
    {
      "cell_type": "code",
      "source": [
        "(x_train, y_train), (x_test, y_test)= mnist.load_data()"
      ],
      "metadata": {
        "colab": {
          "base_uri": "https://localhost:8080/"
        },
        "id": "u45TcH6p0Psz",
        "outputId": "3f7f9fd0-c937-42e9-9f7a-25ef9abeb526"
      },
      "execution_count": 4,
      "outputs": [
        {
          "output_type": "stream",
          "name": "stdout",
          "text": [
            "Downloading data from https://storage.googleapis.com/tensorflow/tf-keras-datasets/mnist.npz\n",
            "\u001b[1m11490434/11490434\u001b[0m \u001b[32m━━━━━━━━━━━━━━━━━━━━\u001b[0m\u001b[37m\u001b[0m \u001b[1m0s\u001b[0m 0us/step\n"
          ]
        }
      ]
    },
    {
      "cell_type": "code",
      "source": [
        "x_train.shape"
      ],
      "metadata": {
        "colab": {
          "base_uri": "https://localhost:8080/"
        },
        "id": "69UpGFnG1DZd",
        "outputId": "e6d5cb58-b8b9-4eb9-fda8-d04703e2c8f9"
      },
      "execution_count": 5,
      "outputs": [
        {
          "output_type": "execute_result",
          "data": {
            "text/plain": [
              "(60000, 28, 28)"
            ]
          },
          "metadata": {},
          "execution_count": 5
        }
      ]
    },
    {
      "cell_type": "code",
      "source": [
        "x_test.shape"
      ],
      "metadata": {
        "colab": {
          "base_uri": "https://localhost:8080/"
        },
        "id": "zbeJIVDQ1MOB",
        "outputId": "a1bbaf04-da6f-48e7-8319-6c86bdc37f97"
      },
      "execution_count": 6,
      "outputs": [
        {
          "output_type": "execute_result",
          "data": {
            "text/plain": [
              "(10000, 28, 28)"
            ]
          },
          "metadata": {},
          "execution_count": 6
        }
      ]
    },
    {
      "cell_type": "markdown",
      "source": [
        "That means the training data has 60,000 images and the testing data has 10,000 images. Each image is of 28 x 28 pixel."
      ],
      "metadata": {
        "id": "qHsU3Tx_1H43"
      }
    },
    {
      "cell_type": "markdown",
      "source": [
        "#Flatten images into one-dimensional vector"
      ],
      "metadata": {
        "id": "JOm4AZbt17KS"
      }
    },
    {
      "cell_type": "code",
      "source": [
        "num_pixles=x_train.shape[1]*x_train.shape[2]\n",
        "x_train=x_train.reshape(x_train.shape[0],num_pixles).astype('float32')\n",
        "x_test=x_test.reshape(x_test.shape[0],num_pixles).astype('float32')"
      ],
      "metadata": {
        "id": "B4jdVX9U1FJf"
      },
      "execution_count": 8,
      "outputs": []
    },
    {
      "cell_type": "markdown",
      "source": [
        "# Normalize the inputs form 0-255 to 0-1\n",
        "(Pixel values can range from 0 to 255)"
      ],
      "metadata": {
        "id": "vb4YeSpa4_qO"
      }
    },
    {
      "cell_type": "code",
      "source": [
        "x_train=x_train/255\n",
        "x_test=x_test/255"
      ],
      "metadata": {
        "id": "dMhi1tHy2kW0"
      },
      "execution_count": 9,
      "outputs": []
    },
    {
      "cell_type": "markdown",
      "source": [
        "# Categorize the output (one-hot coding)"
      ],
      "metadata": {
        "id": "DCJ64JRe5x_Y"
      }
    },
    {
      "cell_type": "code",
      "source": [
        "y_train=to_categorical(y_train)\n",
        "y_test=to_categorical(y_test)"
      ],
      "metadata": {
        "id": "-eZfvc655jFM"
      },
      "execution_count": 10,
      "outputs": []
    },
    {
      "cell_type": "code",
      "source": [
        "num_class=y_test.shape[1]\n",
        "print(num_class)"
      ],
      "metadata": {
        "colab": {
          "base_uri": "https://localhost:8080/"
        },
        "id": "YarCTWOo6DbQ",
        "outputId": "b995dd80-2208-45bf-cb26-da50ecb574b8"
      },
      "execution_count": 13,
      "outputs": [
        {
          "output_type": "stream",
          "name": "stdout",
          "text": [
            "10\n"
          ]
        }
      ]
    },
    {
      "cell_type": "markdown",
      "source": [
        "#Build a neural network"
      ],
      "metadata": {
        "id": "PG_3b06xMvW7"
      }
    },
    {
      "cell_type": "code",
      "source": [
        "def classification_model():\n",
        "  model=Sequential()\n",
        "  model.add(Input(shape=(num_pixles,)))\n",
        "  model.add(Dense(num_pixles,activation='relu'))\n",
        "  model.add(Dense(100, activation='relu'))\n",
        "  model.add(Dense(num_class,activation='softmax'))\n",
        "  model.compile(optimizer='adam', loss='categorical_crossentropy', metrics=['accuracy'])\n",
        "  return model"
      ],
      "metadata": {
        "id": "QMjRp9bdMmRt"
      },
      "execution_count": 24,
      "outputs": []
    },
    {
      "cell_type": "markdown",
      "source": [
        "#Build the model"
      ],
      "metadata": {
        "id": "GqNRpY_uN6KN"
      }
    },
    {
      "cell_type": "code",
      "source": [
        "model=classification_model()\n",
        "model.fit(x_train,y_train,validation_data=(x_test,y_test), epochs=10, verbose=2)"
      ],
      "metadata": {
        "colab": {
          "base_uri": "https://localhost:8080/"
        },
        "id": "DylPXAncOANu",
        "outputId": "5a710c01-fb11-4449-9730-b51da32be3d5"
      },
      "execution_count": 25,
      "outputs": [
        {
          "output_type": "stream",
          "name": "stdout",
          "text": [
            "Epoch 1/10\n",
            "1875/1875 - 23s - 12ms/step - accuracy: 0.9423 - loss: 0.1884 - val_accuracy: 0.9692 - val_loss: 0.0970\n",
            "Epoch 2/10\n",
            "1875/1875 - 41s - 22ms/step - accuracy: 0.9759 - loss: 0.0799 - val_accuracy: 0.9721 - val_loss: 0.0890\n",
            "Epoch 3/10\n",
            "1875/1875 - 39s - 21ms/step - accuracy: 0.9829 - loss: 0.0538 - val_accuracy: 0.9735 - val_loss: 0.0847\n",
            "Epoch 4/10\n",
            "1875/1875 - 20s - 11ms/step - accuracy: 0.9876 - loss: 0.0385 - val_accuracy: 0.9794 - val_loss: 0.0763\n",
            "Epoch 5/10\n",
            "1875/1875 - 20s - 10ms/step - accuracy: 0.9897 - loss: 0.0327 - val_accuracy: 0.9777 - val_loss: 0.0830\n",
            "Epoch 6/10\n",
            "1875/1875 - 20s - 11ms/step - accuracy: 0.9918 - loss: 0.0263 - val_accuracy: 0.9788 - val_loss: 0.0754\n",
            "Epoch 7/10\n",
            "1875/1875 - 21s - 11ms/step - accuracy: 0.9923 - loss: 0.0234 - val_accuracy: 0.9785 - val_loss: 0.0786\n",
            "Epoch 8/10\n",
            "1875/1875 - 20s - 11ms/step - accuracy: 0.9934 - loss: 0.0199 - val_accuracy: 0.9776 - val_loss: 0.0971\n",
            "Epoch 9/10\n",
            "1875/1875 - 21s - 11ms/step - accuracy: 0.9941 - loss: 0.0178 - val_accuracy: 0.9818 - val_loss: 0.0837\n",
            "Epoch 10/10\n",
            "1875/1875 - 19s - 10ms/step - accuracy: 0.9950 - loss: 0.0153 - val_accuracy: 0.9808 - val_loss: 0.0985\n"
          ]
        },
        {
          "output_type": "execute_result",
          "data": {
            "text/plain": [
              "<keras.src.callbacks.history.History at 0x7f21e5ea5f50>"
            ]
          },
          "metadata": {},
          "execution_count": 25
        }
      ]
    },
    {
      "cell_type": "markdown",
      "source": [
        "#Accuracy and corresponding error"
      ],
      "metadata": {
        "id": "zYaa0aBPXn8x"
      }
    },
    {
      "cell_type": "code",
      "source": [
        "scores=model.evaluate(x_test,y_test,verbose='2')\n",
        "print(scores) #the first value is loss and the second value is accuracy"
      ],
      "metadata": {
        "colab": {
          "base_uri": "https://localhost:8080/"
        },
        "id": "NoamXIraOXo2",
        "outputId": "70c15d61-cdea-4280-a0bb-6764c24e4ef2"
      },
      "execution_count": 35,
      "outputs": [
        {
          "output_type": "stream",
          "name": "stdout",
          "text": [
            "[0.0985022634267807, 0.9807999730110168]\n"
          ]
        }
      ]
    },
    {
      "cell_type": "code",
      "source": [
        "print(f'Accuracy: {scores[1]}\\nError: {1-scores[1]}')"
      ],
      "metadata": {
        "colab": {
          "base_uri": "https://localhost:8080/"
        },
        "id": "yHTiJ2-3W0gN",
        "outputId": "939b30fc-3d26-419a-a06b-aba12dcc3f27"
      },
      "execution_count": 33,
      "outputs": [
        {
          "output_type": "stream",
          "name": "stdout",
          "text": [
            "Accuracy: 0.9807999730110168\n",
            "Error: 0.019200026988983154\n"
          ]
        }
      ]
    },
    {
      "cell_type": "markdown",
      "source": [
        "#Save the model"
      ],
      "metadata": {
        "id": "bBw7WFtTXNFH"
      }
    },
    {
      "cell_type": "code",
      "source": [
        "model.save('classification_model.keras')"
      ],
      "metadata": {
        "id": "EzIcQR4kXI8d"
      },
      "execution_count": 29,
      "outputs": []
    },
    {
      "cell_type": "markdown",
      "source": [
        "#Load the model"
      ],
      "metadata": {
        "id": "LxBaYwgJXUkK"
      }
    },
    {
      "cell_type": "code",
      "source": [
        "pretrained_model=keras.saving.load_model('classification_model.keras')"
      ],
      "metadata": {
        "id": "TOmxEE3YXTeR"
      },
      "execution_count": 30,
      "outputs": []
    }
  ]
}